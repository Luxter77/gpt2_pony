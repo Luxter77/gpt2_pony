{
 "cells": [
  {
   "cell_type": "code",
   "execution_count": null,
   "metadata": {},
   "outputs": [],
   "source": [
    "from typing import List, Callable\n",
    "from os import path, makedirs, PathLike"
   ]
  },
  {
   "cell_type": "code",
   "execution_count": null,
   "metadata": {},
   "outputs": [],
   "source": [
    "__all__ = [\n",
    "    'shot',\n",
    "    'clean',\n",
    "    'lclean',\n",
    "    'ensure_path'\n",
    "]"
   ]
  },
  {
   "cell_type": "code",
   "execution_count": null,
   "metadata": {},
   "outputs": [],
   "source": [
    "def shot(f: Callable[[str], str], s: str, times: int) -> str:\n",
    "    for _ in range(times): s = f(s)\n",
    "    return s"
   ]
  },
  {
   "cell_type": "code",
   "execution_count": null,
   "metadata": {},
   "outputs": [],
   "source": [
    "def lclean(l: List[str]) -> List[str]:\n",
    "    for line in l:\n",
    "        line = clean(line)\n",
    "        if (len(line) >= 12):\n",
    "            yield line"
   ]
  },
  {
   "cell_type": "code",
   "execution_count": null,
   "metadata": {},
   "outputs": [],
   "source": [
    "def clean(line: str) -> str:\n",
    "    line = shot(f=(lambda s: s.replace('  ', ' ')), s=line, times=6)\n",
    "    line = shot(f=(lambda s: s.replace('\\n\\n', '\\n')), s=line, times=6)\n",
    "    line = line.replace(\"<|startoftext|>\", '')\n",
    "    return line"
   ]
  },
  {
   "cell_type": "code",
   "execution_count": null,
   "metadata": {},
   "outputs": [],
   "source": [
    "def ensure_path(directory: PathLike, *args: PathLike) -> PathLike:\n",
    "    if args: directory = path.join(directory, *args)\n",
    "    if not path.exists(directory): makedirs(directory)\n",
    "    return directory"
   ]
  }
 ],
 "metadata": {
  "kernelspec": {
   "display_name": "Python 3",
   "language": "python",
   "name": "python3"
  },
  "language_info": {
   "codemirror_mode": {
    "name": "ipython",
    "version": 3
   },
   "file_extension": ".py",
   "mimetype": "text/x-python",
   "name": "python",
   "nbconvert_exporter": "python",
   "pygments_lexer": "ipython3",
   "version": "3.7.9"
  }
 },
 "nbformat": 4,
 "nbformat_minor": 4
}
