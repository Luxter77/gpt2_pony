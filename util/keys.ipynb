{
 "cells": [
  {
   "cell_type": "code",
   "execution_count": null,
   "metadata": {},
   "outputs": [],
   "source": [
    "from enum import Enum"
   ]
  },
  {
   "cell_type": "code",
   "execution_count": null,
   "metadata": {},
   "outputs": [],
   "source": [
    "__all__ = [\n",
    "    'Runs',\n",
    "    'Actions',\n",
    "    'Models',\n",
    "    'Keys',\n",
    "]"
   ]
  },
  {
   "cell_type": "code",
   "execution_count": null,
   "metadata": {},
   "outputs": [],
   "source": [
    "class Runs(str, Enum):\n",
    "    mauri  = \"Mauri Priest\"\n",
    "    pony   = \"Pony_txt\"\n",
    "    umbrum = \"UmbrumML\"\n",
    "    alicorn = \"AlicornML\"\n",
    "    bible_es = \"BibleButAI-es\"\n",
    "    bible_en = \"BibleButAI-en\"\n",
    "    bible_en_plus = \"BibleButAI-en+\"\n",
    "\n",
    "class Actions(int, Enum):\n",
    "    TRAIN = 0\n",
    "    GENERATE = 1\n",
    "    LOAD = 2\n",
    "    SAVE = 3\n",
    "    SAVE_REC = 4\n",
    "    EXTRA = 5\n",
    "    GRAPH = 6\n",
    "    GRAPH_TXT = 7\n",
    "    PULL = 8\n",
    "    \n",
    "class Models(str, Enum):\n",
    "    M1558 = \"1558M\"\n",
    "    M774  = \"774M\"\n",
    "    M355  = \"355M\"\n",
    "    M345  = \"345M\"\n",
    "    M124  = \"124M\"\n",
    "    M117  = \"117M\"\n",
    "\n",
    "class Keys(str, Enum):\n",
    "    START_KEY = \"<|startoftext|>\"\n",
    "    END___KEY = \"<|endoftext|>\""
   ]
  }
 ],
 "metadata": {
  "kernelspec": {
   "display_name": "Python 3",
   "language": "python",
   "name": "python3"
  },
  "language_info": {
   "codemirror_mode": {
    "name": "ipython",
    "version": 3
   },
   "file_extension": ".py",
   "mimetype": "text/x-python",
   "name": "python",
   "nbconvert_exporter": "python",
   "pygments_lexer": "ipython3",
   "version": "3.7.9"
  }
 },
 "nbformat": 4,
 "nbformat_minor": 4
}
