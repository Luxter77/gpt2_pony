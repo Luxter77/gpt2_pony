{
 "cells": [
  {
   "cell_type": "code",
   "execution_count": 1,
   "metadata": {},
   "outputs": [],
   "source": [
    "#!/usr/bin/env python3.7\n",
    "# -*- coding: utf-8 -*-\n",
    "# coding: utf-8"
   ]
  },
  {
   "cell_type": "code",
   "execution_count": 2,
   "metadata": {},
   "outputs": [],
   "source": [
    "from pprint import pprint, pformat\n",
    "from typing import List, Tuple\n",
    "import tensorflow as tf\n",
    "from os import environ \n",
    "from os import path\n",
    "import json\n",
    "import sys"
   ]
  },
  {
   "cell_type": "code",
   "execution_count": 3,
   "metadata": {},
   "outputs": [],
   "source": [
    "import importlib"
   ]
  },
  {
   "cell_type": "code",
   "execution_count": 4,
   "metadata": {},
   "outputs": [],
   "source": [
    "if \"util\" in sys.modules:\n",
    "    importlib.reload(util)\n",
    "else:\n",
    "    import util\n",
    "Actions     = util.keys.Actions\n",
    "Keys        = util.keys.Keys\n",
    "Models      = util.keys.Models\n",
    "Runs        = util.keys.Runs\n",
    "lclean      = util.functions.lclean\n",
    "ensure_path = util.functions.ensure_path"
   ]
  },
  {
   "cell_type": "code",
   "execution_count": 5,
   "metadata": {},
   "outputs": [],
   "source": [
    "from keras.engine.functional import Functional as KFunctional"
   ]
  },
  {
   "cell_type": "code",
   "execution_count": 6,
   "metadata": {},
   "outputs": [],
   "source": [
    "from keras.utils.vis_utils import plot_model\n",
    "from IPython import display"
   ]
  },
  {
   "cell_type": "code",
   "execution_count": 7,
   "metadata": {},
   "outputs": [],
   "source": [
    "environ[\"TF_KERAS\"] = \"True\"\n",
    "import keras_gpt_2 # load_trained_model_from_checkpoint, get_bpe_from_files, generate"
   ]
  },
  {
   "cell_type": "code",
   "execution_count": 8,
   "metadata": {},
   "outputs": [],
   "source": [
    "import tensorflow_model_optimization as tfmot"
   ]
  },
  {
   "cell_type": "code",
   "execution_count": 9,
   "metadata": {},
   "outputs": [],
   "source": [
    "outlist, model = [], False"
   ]
  },
  {
   "cell_type": "code",
   "execution_count": 10,
   "metadata": {},
   "outputs": [],
   "source": [
    "TARGET = Actions.GENERATE"
   ]
  },
  {
   "cell_type": "code",
   "execution_count": 11,
   "metadata": {},
   "outputs": [],
   "source": [
    "config = {\n",
    "    \"run_name\":          Runs.bible_en_plus,\n",
    "    \"checkpoint\":        'model-4250',\n",
    "    \"length\":            1000,\n",
    "    \"temperature\":       .70,\n",
    "    \"k_top\":             20,\n",
    "    \"batch_size\":        2,\n",
    "}"
   ]
  },
  {
   "cell_type": "code",
   "execution_count": 12,
   "metadata": {},
   "outputs": [],
   "source": [
    "prompt: List[str] = [Keys.START_KEY] * config[\"batch_size\"]"
   ]
  },
  {
   "cell_type": "code",
   "execution_count": 13,
   "metadata": {},
   "outputs": [],
   "source": [
    "stuff_path = path.join('checkpoint', config[\"run_name\"])"
   ]
  },
  {
   "cell_type": "code",
   "execution_count": 14,
   "metadata": {},
   "outputs": [],
   "source": [
    "model_params = {\n",
    "    \"model_folder\":    stuff_path,\n",
    "    \"config_path\":     path.join(stuff_path, 'hparams.json'),\n",
    "    \"checkpoint_path\": path.join(stuff_path, config[\"checkpoint\"]), # may change\n",
    "    \"encoder_path\":    path.join(stuff_path, 'encoder.json'),\n",
    "    \"vocab_path\":      path.join(stuff_path, 'vocab.bpe'),\n",
    "}"
   ]
  },
  {
   "cell_type": "code",
   "execution_count": 15,
   "metadata": {},
   "outputs": [],
   "source": [
    "if not(model):\n",
    "    model = keras_gpt_2.load_trained_model_from_checkpoint(model_params[\"config_path\"], model_params[\"checkpoint_path\"])\n",
    "    bpe   = keras_gpt_2.get_bpe_from_files(model_params[\"encoder_path\"], model_params[\"vocab_path\"])"
   ]
  },
  {
   "cell_type": "code",
   "execution_count": 16,
   "metadata": {},
   "outputs": [],
   "source": [
    "if (TARGET == Actions.SAVE):\n",
    "    target = path.join(ensure_path(stuff_path, \"artifacts\"), config[\"checkpoint\"])\n",
    "    model.save(filepath=target+\".h5\", overwrite=True, include_optimizer=True)\n",
    "    with open(path.join(target+\".tflite\"), \"wb\") as tfilete:\n",
    "        tfilete.write(tf.lite.TFLiteConverter.from_keras_model(model).convert())\n",
    "\n",
    "    target = path.join(ensure_path(stuff_path, \"artifacts\"), config[\"checkpoint\"])\n",
    "    model.save(filepath=target+\".h5\", overwrite=True, include_optimizer=True)\n",
    "    converter = tf.lite.TFLiteConverter.from_keras_model(model)\n",
    "    converter.target_spec.supported_ops = [tf.lite.OpsSet.EXPERIMENTAL_TFLITE_BUILTINS_ACTIVATIONS_INT16_WEIGHTS_INT8, tf.lite.OpsSet.TFLITE_BUILTINS]\n",
    "    with open(path.join(target+\".i16wi8.tflite\"), \"wb\") as tfilete:\n",
    "        tfilete.write(converter.convert())"
   ]
  },
  {
   "cell_type": "code",
   "execution_count": 17,
   "metadata": {},
   "outputs": [],
   "source": [
    "if (TARGET == Actions.GRAPH_TXT):\n",
    "    model.summary()"
   ]
  },
  {
   "cell_type": "code",
   "execution_count": 18,
   "metadata": {
    "scrolled": false
   },
   "outputs": [],
   "source": [
    "if (TARGET == Actions.GRAPH):\n",
    "    display.display(plot_model(model,\n",
    "        to_file=path.join(\"renders\", config[\"run_name\"] + '.png'),\n",
    "        show_shapes=True, show_dtype=False, show_layer_names=True,\n",
    "        rankdir='TB', expand_nested=False, dpi=96, layer_range=None\n",
    "    ))"
   ]
  },
  {
   "cell_type": "code",
   "execution_count": null,
   "metadata": {},
   "outputs": [],
   "source": [
    "if (TARGET == Actions.GENERATE):\n",
    "    outlist += (keras_gpt_2.generate(model=model, bpe=bpe, texts=(prompt if prompt else None), length=config[\"length\"], top_k=config[\"k_top\"], temperature=config[\"temperature\"]))"
   ]
  },
  {
   "cell_type": "code",
   "execution_count": null,
   "metadata": {},
   "outputs": [],
   "source": [
    "pprint(list(lclean(outlist)))"
   ]
  },
  {
   "cell_type": "code",
   "execution_count": null,
   "metadata": {},
   "outputs": [],
   "source": [
    "#pprint(json.dumps(outlist, sort_keys=True, indent=4))\n",
    "for l in outlist:\n",
    "    print(\" ~ \".center(100, \"-\"))\n",
    "    print(l)"
   ]
  }
 ],
 "metadata": {
  "kernelspec": {
   "display_name": "Python 3",
   "language": "python",
   "name": "python3"
  },
  "language_info": {
   "codemirror_mode": {
    "name": "ipython",
    "version": 3
   },
   "file_extension": ".py",
   "mimetype": "text/x-python",
   "name": "python",
   "nbconvert_exporter": "python",
   "pygments_lexer": "ipython3",
   "version": "3.7.9"
  }
 },
 "nbformat": 4,
 "nbformat_minor": 4
}
